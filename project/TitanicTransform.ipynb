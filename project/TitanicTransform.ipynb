{
 "cells": [
  {
   "cell_type": "code",
   "execution_count": null,
   "metadata": {},
   "outputs": [
    {
     "name": "stdout",
     "output_type": "stream",
     "text": [
      "Input FPS: 25.0 Output FPS: 50.0\n",
      "Frames 1 / 4130\n"
     ]
    }
   ],
   "source": [
    "# %load video.py\n",
    "from StyleTransfer import *\n",
    "import cv2\n",
    "\n",
    "video_path = \"videoplayback.webm\"\n",
    "style_path = \"blue-and-red-abstract-painting-1799912.jpg\"\n",
    "cap = cv2.VideoCapture(video_path)\n",
    "fps = cap.get(cv2.CAP_PROP_FPS)\n",
    "total_frames = int(cap.get(cv2.CAP_PROP_FRAME_COUNT))\n",
    "writer = cv2.VideoWriter(\"output.avi\", cv2.VideoWriter_fourcc(*'DIVX'), fps*2, (int(cap.get(cv2.CAP_PROP_FRAME_WIDTH)), int(cap.get(cv2.CAP_PROP_FRAME_HEIGHT))))\n",
    "\n",
    "print(\"Input FPS: {} Output FPS: {}\".format(fps, fps*2))\n",
    "\n",
    "model = None\n",
    "previous_img = None\n",
    "\n",
    "count = 0\n",
    "\n",
    "while(cap.isOpened()):\n",
    "    count += 1\n",
    "    if count % 50 == 0: previous_img = None\n",
    "    ret, frame = cap.read()\n",
    "    if ret == True:\n",
    "        print(\"Frames {0} / {1}\".format(count, total_frames))\n",
    "        frame = cv2.cvtColor(frame, cv2.COLOR_BGR2RGB)\n",
    "        tf.keras.backend.clear_session()\n",
    "        if model is None:\n",
    "            model = StyleTransfer(frame, style_path, style_layers=[\"block1_conv1\", \"block3_conv1\", \"block5_conv1\"], video=True)\n",
    "        else:\n",
    "            model.update_content(frame, video=True)\n",
    "        if previous_img is None:\n",
    "            opt = tf.optimizers.Adam(learning_rate=0.08, beta_1=0.8, epsilon=1e-1)\n",
    "            model.transfer(opt, epochs=1, step_per_epoch=100, style_weight=1e6, content_weight=1e2, denoise_weight=1e2, previous_img=previous_img, previous_weight=1e4)\n",
    "        else:\n",
    "            opt = tf.optimizers.Adam(learning_rate=0.1, beta_1=0.8, epsilon=1e-1)\n",
    "            model.transfer(opt, epochs=1, step_per_epoch=20, style_weight=1e2, content_weight=1e4, denoise_weight=1e4, previous_img=previous_img, previous_weight=1e4)\n",
    "        previous_img = model.img\n",
    "        newframe = model.get_frame(model.img)\n",
    "        newframe = cv2.cvtColor(newframe, cv2.COLOR_RGB2BGR)\n",
    "        writer.write(newframe)\n",
    "        writer.write(newframe)\n",
    "    else:\n",
    "        break\n",
    "\n",
    "cap.release()\n",
    "writer.release()"
   ]
  }
 ],
 "metadata": {
  "kernelspec": {
   "display_name": "Python 3",
   "language": "python",
   "name": "python3"
  },
  "language_info": {
   "codemirror_mode": {
    "name": "ipython",
    "version": 3
   },
   "file_extension": ".py",
   "mimetype": "text/x-python",
   "name": "python",
   "nbconvert_exporter": "python",
   "pygments_lexer": "ipython3",
   "version": "3.6.8"
  }
 },
 "nbformat": 4,
 "nbformat_minor": 4
}
